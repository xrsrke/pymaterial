{
 "cells": [
  {
   "cell_type": "code",
   "execution_count": null,
   "id": "3a3aab95-cc49-448c-aca8-db429f6177fb",
   "metadata": {},
   "outputs": [],
   "source": [
    "#| default_exp tests.test_bonding"
   ]
  },
  {
   "cell_type": "code",
   "execution_count": null,
   "id": "de40dd7c-362d-4674-b410-18d0dd870c1d",
   "metadata": {},
   "outputs": [],
   "source": [
    "#| hide\n",
    "from nbdev.showdoc import *"
   ]
  },
  {
   "cell_type": "code",
   "execution_count": null,
   "id": "41fb09cc-2e73-4c5b-b260-c082c5554c7c",
   "metadata": {},
   "outputs": [],
   "source": [
    "#| hide\n",
    "import nbdev; nbdev.nbdev_export()"
   ]
  },
  {
   "cell_type": "code",
   "execution_count": null,
   "id": "e596d589-4391-45f2-940d-1bcd85227a47",
   "metadata": {},
   "outputs": [],
   "source": [
    "#| export\n",
    "import pytest"
   ]
  },
  {
   "cell_type": "markdown",
   "id": "40c1822d-a6ed-4173-ae89-8b0b3ad40ea8",
   "metadata": {},
   "source": [
    "#### Attractive Force"
   ]
  },
  {
   "cell_type": "code",
   "execution_count": null,
   "id": "41c806df-b31b-41b8-8984-fbcedc9d3bad",
   "metadata": {},
   "outputs": [],
   "source": [
    "#| export\n",
    "def test_attractive_force():\n",
    "    pass"
   ]
  },
  {
   "cell_type": "code",
   "execution_count": null,
   "id": "4520c7d9-c7a2-44ae-962d-3e8b494e36fb",
   "metadata": {},
   "outputs": [],
   "source": []
  }
 ],
 "metadata": {
  "kernelspec": {
   "display_name": "Python 3 (ipykernel)",
   "language": "python",
   "name": "python3"
  }
 },
 "nbformat": 4,
 "nbformat_minor": 5
}
