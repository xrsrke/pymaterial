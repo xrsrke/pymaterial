{
 "cells": [
  {
   "cell_type": "markdown",
   "id": "d186c3a9-493f-4286-9ed9-a63154533742",
   "metadata": {},
   "source": [
    "# material\n",
    "\n",
    "> Fill in a module description here"
   ]
  },
  {
   "cell_type": "code",
   "execution_count": null,
   "id": "a2733eff-c1f8-493b-8977-6bf1fb6fae46",
   "metadata": {},
   "outputs": [],
   "source": [
    "#| default_exp material"
   ]
  },
  {
   "cell_type": "code",
   "execution_count": null,
   "id": "1f2ce66b-bd96-4fac-98f9-eeacdd785de3",
   "metadata": {},
   "outputs": [],
   "source": [
    "#| hide\n",
    "from nbdev.showdoc import *"
   ]
  },
  {
   "cell_type": "code",
   "execution_count": null,
   "id": "b7fbcb7d-27a8-4eab-887b-a15a42d3f817",
   "metadata": {},
   "outputs": [],
   "source": [
    "#| hide\n",
    "import nbdev; nbdev.nbdev_export()"
   ]
  },
  {
   "cell_type": "code",
   "execution_count": null,
   "id": "272c26e4-bc6d-42e5-ab36-9130f49b2998",
   "metadata": {},
   "outputs": [],
   "source": [
    "#| export\n",
    "from pymaterial.bonding import *"
   ]
  },
  {
   "cell_type": "code",
   "execution_count": null,
   "id": "bc930724-90b0-4670-9847-2b0e21b6c798",
   "metadata": {},
   "outputs": [],
   "source": [
    "#| export\n",
    "class Material:\n",
    "    pass"
   ]
  },
  {
   "cell_type": "code",
   "execution_count": null,
   "id": "31a382cd-5eaf-482b-9296-99c8561e75c3",
   "metadata": {},
   "outputs": [],
   "source": []
  }
 ],
 "metadata": {
  "kernelspec": {
   "display_name": "Python 3 (ipykernel)",
   "language": "python",
   "name": "python3"
  }
 },
 "nbformat": 4,
 "nbformat_minor": 5
}
