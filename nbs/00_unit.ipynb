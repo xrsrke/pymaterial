{
 "cells": [
  {
   "cell_type": "markdown",
   "id": "a097fef6-32ec-46b1-916a-6e75483d8086",
   "metadata": {},
   "source": [
    "# Unit\n",
    "\n",
    "> Fill in a module description here"
   ]
  },
  {
   "cell_type": "code",
   "execution_count": null,
   "id": "6a82e2dc-badc-4127-bc93-d948c36b836e",
   "metadata": {},
   "outputs": [],
   "source": [
    "#| default_exp unit"
   ]
  },
  {
   "cell_type": "code",
   "execution_count": null,
   "id": "d0f5850e-7e6a-4636-a550-a8bd2115080c",
   "metadata": {},
   "outputs": [],
   "source": [
    "#| hide\n",
    "from nbdev.showdoc import *"
   ]
  },
  {
   "cell_type": "code",
   "execution_count": null,
   "id": "c8110f32-6301-4a75-83c6-fe412010ed51",
   "metadata": {},
   "outputs": [],
   "source": [
    "#| hide\n",
    "import nbdev; nbdev.nbdev_export()"
   ]
  },
  {
   "cell_type": "code",
   "execution_count": null,
   "id": "472855c9-5859-4a61-9e8d-fed29280d627",
   "metadata": {},
   "outputs": [],
   "source": [
    "#| export\n",
    "from dataclasses import dataclass"
   ]
  },
  {
   "cell_type": "code",
   "execution_count": null,
   "id": "bc617017-7d03-42ff-89ba-d2fbe82747b6",
   "metadata": {},
   "outputs": [],
   "source": [
    "#| export\n",
    "@dataclass\n",
    "class Unit:\n",
    "    # SI Unit\n",
    "    LENGTH = 'meter'\n",
    "    MASS = 'kilogram'\n",
    "    TIME = 'second'\n",
    "    \n",
    "    # Derived from SI Unit\n",
    "    FORCE = 'newton'\n",
    "    ELECTRIC_CHARGE = 'coulomb'\n",
    "    ELECTRIC_POTENTIAL = 'volt'\n",
    "    ENERGY = 'joule'"
   ]
  },
  {
   "cell_type": "code",
   "execution_count": null,
   "id": "fe2a1153-01ec-4430-bb2d-d5becf5d603c",
   "metadata": {},
   "outputs": [
    {
     "data": {
      "text/plain": [
       "'meter'"
      ]
     },
     "execution_count": null,
     "metadata": {},
     "output_type": "execute_result"
    }
   ],
   "source": [
    "Unit.LENGTH"
   ]
  },
  {
   "cell_type": "markdown",
   "id": "71d49763-f39c-4ed7-be84-24c43736401e",
   "metadata": {},
   "source": [
    "### Significant Figure"
   ]
  },
  {
   "cell_type": "code",
   "execution_count": null,
   "id": "4a8ca833-030e-44ff-a5fb-d8b7209efc18",
   "metadata": {},
   "outputs": [],
   "source": [
    "import decimal"
   ]
  },
  {
   "cell_type": "code",
   "execution_count": null,
   "id": "e2f04f9b-6f34-4eae-ae3d-295a7b39f3e7",
   "metadata": {},
   "outputs": [],
   "source": [
    "D = decimal.Decimal"
   ]
  },
  {
   "cell_type": "code",
   "execution_count": null,
   "id": "513ad2b5-1980-43bc-ab24-8590781c0280",
   "metadata": {},
   "outputs": [
    {
     "data": {
      "text/plain": [
       "Decimal('49.335')"
      ]
     },
     "execution_count": null,
     "metadata": {},
     "output_type": "execute_result"
    }
   ],
   "source": [
    "D('32.01') + D('5.325') + D('12')"
   ]
  },
  {
   "cell_type": "code",
   "execution_count": null,
   "id": "bc042423-35a7-4dbd-af36-1742bc99f95b",
   "metadata": {},
   "outputs": [],
   "source": []
  }
 ],
 "metadata": {
  "kernelspec": {
   "display_name": "Python 3 (ipykernel)",
   "language": "python",
   "name": "python3"
  }
 },
 "nbformat": 4,
 "nbformat_minor": 5
}
