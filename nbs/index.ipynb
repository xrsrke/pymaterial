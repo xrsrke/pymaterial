{
 "cells": [
  {
   "cell_type": "code",
   "execution_count": null,
   "metadata": {},
   "outputs": [],
   "source": [
    "#| hide\n",
    "from pymaterial.core import *\n",
    "from pymaterial.bonding import *"
   ]
  },
  {
   "cell_type": "markdown",
   "metadata": {},
   "source": [
    "# pymaterial\n",
    "\n",
    "> material science"
   ]
  },
  {
   "cell_type": "markdown",
   "metadata": {},
   "source": [
    "## Install"
   ]
  },
  {
   "cell_type": "markdown",
   "metadata": {},
   "source": [
    "```sh\n",
    "pip install pymaterial\n",
    "```"
   ]
  },
  {
   "cell_type": "markdown",
   "metadata": {},
   "source": [
    "### Why Material Science?"
   ]
  },
  {
   "cell_type": "markdown",
   "metadata": {},
   "source": [
    "How do we know what material to use?"
   ]
  },
  {
   "cell_type": "markdown",
   "metadata": {},
   "source": [
    "### Example 1: Why... $\\mathrm{H}_2\\mathrm{O}$?"
   ]
  },
  {
   "cell_type": "code",
   "execution_count": null,
   "metadata": {},
   "outputs": [],
   "source": [
    "interatomic_separation = 0.001"
   ]
  },
  {
   "cell_type": "code",
   "execution_count": null,
   "metadata": {},
   "outputs": [],
   "source": [
    "attractive_force = AttractiveForce()"
   ]
  },
  {
   "cell_type": "code",
   "execution_count": null,
   "metadata": {},
   "outputs": [
    {
     "data": {
      "text/html": [
       "8987551792.261171 meter<sup>2</sup> newton/coulomb<sup>2</sup>"
      ],
      "text/latex": [
       "$8987551792.261171\\ \\frac{\\mathrm{meter}^{2} \\cdot \\mathrm{newton}}{\\mathrm{coulomb}^{2}}$"
      ],
      "text/plain": [
       "8987551792.261171 <Unit('meter ** 2 * newton / coulomb ** 2')>"
      ]
     },
     "execution_count": null,
     "metadata": {},
     "output_type": "execute_result"
    }
   ],
   "source": [
    "attractive_force.coloumb_constant"
   ]
  },
  {
   "cell_type": "code",
   "execution_count": null,
   "metadata": {},
   "outputs": [
    {
     "data": {
      "text/html": [
       "nanocoulomb"
      ],
      "text/latex": [
       "$\\mathrm{nanocoulomb}$"
      ],
      "text/plain": [
       "<Unit('nanocoulomb')>"
      ]
     },
     "execution_count": null,
     "metadata": {},
     "output_type": "execute_result"
    }
   ],
   "source": [
    "ureg.ncoulomb"
   ]
  },
  {
   "cell_type": "code",
   "execution_count": null,
   "metadata": {},
   "outputs": [],
   "source": [
    "charge_1 = Q(25, 'ncoulomb')"
   ]
  },
  {
   "cell_type": "code",
   "execution_count": null,
   "metadata": {},
   "outputs": [
    {
     "data": {
      "text/html": [
       "25 nanocoulomb"
      ],
      "text/latex": [
       "$25\\ \\mathrm{nanocoulomb}$"
      ],
      "text/plain": [
       "25 <Unit('nanocoulomb')>"
      ]
     },
     "execution_count": null,
     "metadata": {},
     "output_type": "execute_result"
    }
   ],
   "source": [
    "charge_1"
   ]
  },
  {
   "cell_type": "code",
   "execution_count": null,
   "metadata": {},
   "outputs": [],
   "source": [
    "charge_2 = Q(-75, 'ncoulomb')"
   ]
  },
  {
   "cell_type": "code",
   "execution_count": null,
   "metadata": {},
   "outputs": [
    {
     "data": {
      "text/html": [
       "-75 nanocoulomb"
      ],
      "text/latex": [
       "$-75\\ \\mathrm{nanocoulomb}$"
      ],
      "text/plain": [
       "-75 <Unit('nanocoulomb')>"
      ]
     },
     "execution_count": null,
     "metadata": {},
     "output_type": "execute_result"
    }
   ],
   "source": [
    "charge_2"
   ]
  },
  {
   "cell_type": "code",
   "execution_count": null,
   "metadata": {},
   "outputs": [],
   "source": [
    "interatomic_separation = Q(3, 'centimeter')"
   ]
  },
  {
   "cell_type": "code",
   "execution_count": null,
   "metadata": {},
   "outputs": [
    {
     "data": {
      "text/html": [
       "3 centimeter"
      ],
      "text/latex": [
       "$3\\ \\mathrm{centimeter}$"
      ],
      "text/plain": [
       "3 <Unit('centimeter')>"
      ]
     },
     "execution_count": null,
     "metadata": {},
     "output_type": "execute_result"
    }
   ],
   "source": [
    "interatomic_separation"
   ]
  },
  {
   "cell_type": "code",
   "execution_count": null,
   "metadata": {},
   "outputs": [
    {
     "data": {
      "text/html": [
       "0.0062413554112924815 newton"
      ],
      "text/latex": [
       "$0.0062413554112924815\\ \\mathrm{newton}$"
      ],
      "text/plain": [
       "0.0062413554112924815 <Unit('newton')>"
      ]
     },
     "execution_count": null,
     "metadata": {},
     "output_type": "execute_result"
    }
   ],
   "source": [
    "attractive_force.magnitude(charge_1, charge_2, interatomic_separation)"
   ]
  },
  {
   "cell_type": "code",
   "execution_count": null,
   "metadata": {},
   "outputs": [
    {
     "data": {
      "text/html": [
       "meter<sup>2</sup> newton/coulomb<sup>2</sup>"
      ],
      "text/latex": [
       "$\\frac{\\mathrm{meter}^{2} \\cdot \\mathrm{newton}}{\\mathrm{coulomb}^{2}}$"
      ],
      "text/plain": [
       "<Unit('meter ** 2 * newton / coulomb ** 2')>"
      ]
     },
     "execution_count": null,
     "metadata": {},
     "output_type": "execute_result"
    }
   ],
   "source": [
    "ureg.newton * ((ureg.meter**2)/(ureg.coulomb**2))"
   ]
  },
  {
   "cell_type": "code",
   "execution_count": null,
   "metadata": {},
   "outputs": [],
   "source": []
  }
 ],
 "metadata": {
  "kernelspec": {
   "display_name": "Python 3 (ipykernel)",
   "language": "python",
   "name": "python3"
  }
 },
 "nbformat": 4,
 "nbformat_minor": 4
}
