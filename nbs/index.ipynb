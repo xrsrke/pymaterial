{
 "cells": [
  {
   "cell_type": "code",
   "execution_count": null,
   "metadata": {},
   "outputs": [],
   "source": [
    "#| hide\n",
    "from scipy.constants import e\n",
    "from fastcore.test import test_eq, is_close\n",
    "\n",
    "from pymaterial.core import *\n",
    "from pymaterial.unit import Unit\n",
    "from pymaterial.bonding import *"
   ]
  },
  {
   "cell_type": "markdown",
   "metadata": {},
   "source": [
    "# pymaterial\n",
    "\n",
    "> An material science package"
   ]
  },
  {
   "cell_type": "markdown",
   "metadata": {},
   "source": [
    "## Install"
   ]
  },
  {
   "cell_type": "markdown",
   "metadata": {},
   "source": [
    "```sh\n",
    "pip install pymaterial\n",
    "```"
   ]
  },
  {
   "cell_type": "markdown",
   "metadata": {},
   "source": [
    "### Why Material Science?"
   ]
  },
  {
   "cell_type": "markdown",
   "metadata": {},
   "source": [
    "How do we know what material to use?"
   ]
  },
  {
   "cell_type": "markdown",
   "metadata": {},
   "source": [
    "### Experiments\n",
    "- What the world will looks like if electron don't follow Pauli Exclusion Principle\n",
    "- For hunting life on a new planet, does carbon actually essential?\n",
    "- Why water liquid?"
   ]
  },
  {
   "cell_type": "markdown",
   "metadata": {},
   "source": [
    "### Example 1: Why... $\\mathrm{H}_2\\mathrm{O}$?"
   ]
  },
  {
   "cell_type": "code",
   "execution_count": null,
   "metadata": {},
   "outputs": [],
   "source": [
    "charge_1 = Q(25, 'ncoulomb')"
   ]
  },
  {
   "cell_type": "code",
   "execution_count": null,
   "metadata": {},
   "outputs": [],
   "source": [
    "charge_2 = Q(-75, 'ncoulomb')"
   ]
  },
  {
   "cell_type": "code",
   "execution_count": null,
   "metadata": {},
   "outputs": [],
   "source": [
    "interatomic_separation = Q(3, 'centimeter')"
   ]
  },
  {
   "cell_type": "code",
   "execution_count": null,
   "metadata": {},
   "outputs": [
    {
     "data": {
      "text/plain": [
       "(25 <Unit('nanocoulomb')>, -75 <Unit('nanocoulomb')>, 3 <Unit('centimeter')>)"
      ]
     },
     "execution_count": null,
     "metadata": {},
     "output_type": "execute_result"
    }
   ],
   "source": [
    "charge_1, charge_2, interatomic_separation"
   ]
  },
  {
   "cell_type": "markdown",
   "metadata": {},
   "source": [
    "##### The attractive force between charge 1 and charge 2"
   ]
  },
  {
   "cell_type": "code",
   "execution_count": null,
   "metadata": {},
   "outputs": [],
   "source": [
    "attractive_force = AttractiveForce().magnitude(charge_1, charge_2, interatomic_separation)"
   ]
  },
  {
   "cell_type": "code",
   "execution_count": null,
   "metadata": {},
   "outputs": [
    {
     "data": {
      "text/html": [
       "0.018724066233877443 newton"
      ],
      "text/latex": [
       "$0.018724066233877443\\ \\mathrm{newton}$"
      ],
      "text/plain": [
       "0.018724066233877443 <Unit('newton')>"
      ]
     },
     "execution_count": null,
     "metadata": {},
     "output_type": "execute_result"
    }
   ],
   "source": [
    "attractive_force"
   ]
  },
  {
   "cell_type": "code",
   "execution_count": null,
   "metadata": {},
   "outputs": [],
   "source": [
    "test_eq(attractive_force.units, Unit.FORCE)"
   ]
  },
  {
   "cell_type": "code",
   "execution_count": null,
   "metadata": {},
   "outputs": [
    {
     "data": {
      "text/plain": [
       "True"
      ]
     },
     "execution_count": null,
     "metadata": {},
     "output_type": "execute_result"
    }
   ],
   "source": [
    "is_close(attractive_force.magnitude, 0.018, eps=1e-03)"
   ]
  },
  {
   "cell_type": "code",
   "execution_count": null,
   "metadata": {},
   "outputs": [
    {
     "data": {
      "text/html": [
       "1.68516596104897×10<sup>-5</sup> meter<sup>2</sup> newton"
      ],
      "text/latex": [
       "$1.68516596104897\\times 10^{-5}\\ \\mathrm{meter}^{2} \\cdot \\mathrm{newton}$"
      ],
      "text/plain": [
       "1.68516596104897e-05 <Unit('meter ** 2 * newton')>"
      ]
     },
     "execution_count": null,
     "metadata": {},
     "output_type": "execute_result"
    }
   ],
   "source": [
    "AttractiveForce().constant_a(charge_1, charge_2)"
   ]
  },
  {
   "cell_type": "markdown",
   "metadata": {},
   "source": [
    "The attractive energy $E_A$ between charge 1 and charge 2"
   ]
  },
  {
   "cell_type": "code",
   "execution_count": null,
   "metadata": {},
   "outputs": [],
   "source": [
    "attractive_energy = AttractiveEnergy().magnitude(charge_1, charge_2, interatomic_separation)"
   ]
  },
  {
   "cell_type": "code",
   "execution_count": null,
   "metadata": {},
   "outputs": [],
   "source": []
  }
 ],
 "metadata": {
  "kernelspec": {
   "display_name": "Python 3 (ipykernel)",
   "language": "python",
   "name": "python3"
  }
 },
 "nbformat": 4,
 "nbformat_minor": 4
}
