{
 "cells": [
  {
   "cell_type": "code",
   "execution_count": null,
   "metadata": {},
   "outputs": [],
   "source": [
    "#| hide\n",
    "from pymaterial.core import *\n",
    "from pymaterial.bonding import *"
   ]
  },
  {
   "cell_type": "markdown",
   "metadata": {},
   "source": [
    "# pymaterial\n",
    "\n",
    "> An material science package"
   ]
  },
  {
   "cell_type": "markdown",
   "metadata": {},
   "source": [
    "## Install"
   ]
  },
  {
   "cell_type": "markdown",
   "metadata": {},
   "source": [
    "```sh\n",
    "pip install pymaterial\n",
    "```"
   ]
  },
  {
   "cell_type": "markdown",
   "metadata": {},
   "source": [
    "### Why Material Science?"
   ]
  },
  {
   "cell_type": "markdown",
   "metadata": {},
   "source": [
    "How do we know what material to use?"
   ]
  },
  {
   "cell_type": "markdown",
   "metadata": {},
   "source": [
    "### Experiments\n",
    "- What the world will looks like if electron don't follow Pauli Exclusion Principle\n",
    "- For hunting life on a new planet, does carbon actually essential?\n",
    "- Why water liquid?"
   ]
  },
  {
   "cell_type": "markdown",
   "metadata": {},
   "source": [
    "### Example 1: Why... $\\mathrm{H}_2\\mathrm{O}$?"
   ]
  },
  {
   "cell_type": "code",
   "execution_count": null,
   "metadata": {},
   "outputs": [],
   "source": [
    "attractive_force = AttractiveForce()"
   ]
  },
  {
   "cell_type": "code",
   "execution_count": null,
   "metadata": {},
   "outputs": [],
   "source": [
    "charge_1 = Q(25, 'ncoulomb')"
   ]
  },
  {
   "cell_type": "code",
   "execution_count": null,
   "metadata": {},
   "outputs": [],
   "source": [
    "charge_2 = Q(-75, 'ncoulomb')"
   ]
  },
  {
   "cell_type": "code",
   "execution_count": null,
   "metadata": {},
   "outputs": [],
   "source": [
    "interatomic_separation = Q(3, 'centimeter')"
   ]
  },
  {
   "cell_type": "code",
   "execution_count": null,
   "metadata": {},
   "outputs": [
    {
     "data": {
      "text/plain": [
       "(25 <Unit('nanocoulomb')>, -75 <Unit('nanocoulomb')>, 3 <Unit('centimeter')>)"
      ]
     },
     "execution_count": null,
     "metadata": {},
     "output_type": "execute_result"
    }
   ],
   "source": [
    "charge_1, charge_2, interatomic_separation"
   ]
  },
  {
   "cell_type": "markdown",
   "metadata": {},
   "source": [
    "The attractive Force between charge 1 and charge 2"
   ]
  },
  {
   "cell_type": "code",
   "execution_count": null,
   "metadata": {},
   "outputs": [
    {
     "data": {
      "text/html": [
       "0.018724066233877443 newton"
      ],
      "text/latex": [
       "$0.018724066233877443\\ \\mathrm{newton}$"
      ],
      "text/plain": [
       "0.018724066233877443 <Unit('newton')>"
      ]
     },
     "execution_count": null,
     "metadata": {},
     "output_type": "execute_result"
    }
   ],
   "source": [
    "attractive_force.magnitude(charge_1, charge_2, interatomic_separation)"
   ]
  },
  {
   "cell_type": "code",
   "execution_count": null,
   "metadata": {},
   "outputs": [
    {
     "data": {
      "text/html": [
       "4.325770410640756×10<sup>-43</sup> coulomb<sup>2</sup> meter<sup>2</sup> newton"
      ],
      "text/latex": [
       "$4.325770410640756\\times 10^{-43}\\ \\mathrm{coulomb}^{2} \\cdot \\mathrm{meter}^{2} \\cdot \\mathrm{newton}$"
      ],
      "text/plain": [
       "4.325770410640756e-43 <Unit('coulomb ** 2 * meter ** 2 * newton')>"
      ]
     },
     "execution_count": null,
     "metadata": {},
     "output_type": "execute_result"
    }
   ],
   "source": [
    "attractive_force.constant_a(charge_1, charge_2)"
   ]
  },
  {
   "cell_type": "markdown",
   "metadata": {},
   "source": [
    "The attractive energy $E_A$ between charge 1 and charge 2"
   ]
  },
  {
   "cell_type": "code",
   "execution_count": null,
   "metadata": {},
   "outputs": [],
   "source": [
    "attractive_energy = AttractiveEnergy()"
   ]
  },
  {
   "cell_type": "code",
   "execution_count": null,
   "metadata": {},
   "outputs": [
    {
     "data": {
      "text/html": [
       "-1.4419234702135854e-41 coulomb<sup>2</sup> meter newton"
      ],
      "text/latex": [
       "$-1.4419234702135854\\times 10^{-41}\\ \\mathrm{coulomb}^{2} \\cdot \\mathrm{meter} \\cdot \\mathrm{newton}$"
      ],
      "text/plain": [
       "-1.4419234702135854e-41 <Unit('coulomb ** 2 * meter * newton')>"
      ]
     },
     "execution_count": null,
     "metadata": {},
     "output_type": "execute_result"
    }
   ],
   "source": [
    "attractive_energy.magnitude(charge_1, charge_2, interatomic_separation)"
   ]
  },
  {
   "cell_type": "code",
   "execution_count": null,
   "metadata": {},
   "outputs": [],
   "source": []
  }
 ],
 "metadata": {
  "kernelspec": {
   "display_name": "Python 3 (ipykernel)",
   "language": "python",
   "name": "python3"
  }
 },
 "nbformat": 4,
 "nbformat_minor": 4
}
