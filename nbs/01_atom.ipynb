{
 "cells": [
  {
   "cell_type": "code",
   "execution_count": 44,
   "id": "c842861d-5c4c-4498-963c-6e229ab4bfed",
   "metadata": {},
   "outputs": [],
   "source": [
    "#| default_exp atom"
   ]
  },
  {
   "cell_type": "code",
   "execution_count": 45,
   "id": "d93c3a8d-575d-447b-b7a2-d17755e91ffc",
   "metadata": {},
   "outputs": [],
   "source": [
    "#| hide\n",
    "from nbdev.showdoc import *"
   ]
  },
  {
   "cell_type": "code",
   "execution_count": 46,
   "id": "08851523-e188-4e7d-a1c0-e383ca47a47c",
   "metadata": {},
   "outputs": [],
   "source": [
    "#| hide\n",
    "import nbdev; nbdev.nbdev_export()"
   ]
  },
  {
   "cell_type": "code",
   "execution_count": 47,
   "id": "48182caf-3b53-46ae-bfd2-7b176e176500",
   "metadata": {},
   "outputs": [],
   "source": [
    "#| export\n",
    "import numpy as np\n",
    "from numpy import linalg\n",
    "from fastcore.test import test_eq\n",
    "\n",
    "from pymaterial.core import *\n",
    "from pymaterial.unit import Unit"
   ]
  },
  {
   "cell_type": "markdown",
   "id": "1cee7df0-b7db-44c3-976f-10b2af821b54",
   "metadata": {},
   "source": [
    "# atom\n",
    "\n",
    "> Fill in a module description here"
   ]
  },
  {
   "cell_type": "code",
   "execution_count": 48,
   "id": "c65df799-19cb-4245-a2a1-ed899c0f64cf",
   "metadata": {},
   "outputs": [],
   "source": [
    "#| export\n",
    "class Element:\n",
    "    def __init__(self, *,\n",
    "                 formula: str, # the chemical formula of the element\n",
    "                 charge: int = 0,\n",
    "                 coordinate = None):\n",
    "        \n",
    "        \"\"\"\n",
    "        Represents an element\n",
    "        \n",
    "        :param charge: the overall charge of the element\n",
    "        :param coordinate: the coordinate of the element\n",
    "        \"\"\"\n",
    "        \n",
    "        e = ChemFormula(formula)\n",
    "        \n",
    "        self.element = e.element\n",
    "        self.unicode = e.unicode\n",
    "        self.charge = charge\n",
    "        self.coordinate = coordinate\n",
    "    \n",
    "    def __repr__(self):\n",
    "        return self.unicode"
   ]
  },
  {
   "cell_type": "code",
   "execution_count": 49,
   "id": "c732023a-63e1-4f7c-bce4-704e4c29629f",
   "metadata": {},
   "outputs": [],
   "source": [
    "from chemformula import ChemFormula"
   ]
  },
  {
   "cell_type": "code",
   "execution_count": 50,
   "id": "89e3bd4c-9bf1-48c1-8366-b579770ad5e9",
   "metadata": {},
   "outputs": [],
   "source": [
    "muscarine = ChemFormula(\"((CH3)3N)(C6H11O2)\", charge = 1, name = \"L-(+)-Muscarine\")"
   ]
  },
  {
   "cell_type": "code",
   "execution_count": 51,
   "id": "a909cd1a-6597-4dfe-ab09-90f78c7aac15",
   "metadata": {},
   "outputs": [
    {
     "data": {
      "text/plain": [
       "'((CH₃)₃N)(C₆H₁₁O₂)⁺'"
      ]
     },
     "execution_count": 51,
     "metadata": {},
     "output_type": "execute_result"
    }
   ],
   "source": [
    "muscarine.unicode"
   ]
  },
  {
   "cell_type": "code",
   "execution_count": 52,
   "id": "ee3ab7b9-bdcd-4e9a-a27e-3706bc062c28",
   "metadata": {},
   "outputs": [
    {
     "data": {
      "text/plain": [
       "{'C': 9, 'H': 20, 'N': 1, 'O': 2}"
      ]
     },
     "execution_count": 52,
     "metadata": {},
     "output_type": "execute_result"
    }
   ],
   "source": [
    "muscarine.element"
   ]
  },
  {
   "cell_type": "code",
   "execution_count": 53,
   "id": "55df8c6d-b61b-4daf-a146-de91464610f2",
   "metadata": {},
   "outputs": [
    {
     "data": {
      "text/plain": [
       "<chemformula.ChemFormulaString at 0x7fb0b0028a60>"
      ]
     },
     "execution_count": 53,
     "metadata": {},
     "output_type": "execute_result"
    }
   ],
   "source": [
    "muscarine.hill_formula"
   ]
  },
  {
   "cell_type": "code",
   "execution_count": 54,
   "id": "508c2171-1d73-4166-9e6b-59871b1059c4",
   "metadata": {},
   "outputs": [],
   "source": [
    "water = Element(formula='H2O', charge=-1)"
   ]
  },
  {
   "cell_type": "code",
   "execution_count": 55,
   "id": "008204e3-024f-4fd8-a2e2-4e1a9ff9d257",
   "metadata": {},
   "outputs": [
    {
     "data": {
      "text/plain": [
       "{'element': {'H': 2, 'O': 1},\n",
       " 'unicode': 'H₂O',\n",
       " 'charge': -1,\n",
       " 'coordinate': None}"
      ]
     },
     "execution_count": 55,
     "metadata": {},
     "output_type": "execute_result"
    }
   ],
   "source": [
    "water.__dict__"
   ]
  },
  {
   "cell_type": "code",
   "execution_count": 56,
   "id": "23fc0d0e-718c-4290-aae6-900581d7aa21",
   "metadata": {},
   "outputs": [
    {
     "data": {
      "text/plain": [
       "2"
      ]
     },
     "execution_count": 56,
     "metadata": {},
     "output_type": "execute_result"
    }
   ],
   "source": [
    "water.element['H']"
   ]
  },
  {
   "cell_type": "code",
   "execution_count": 57,
   "id": "30d71f9f-8197-44a1-843f-b65e7187ae5a",
   "metadata": {},
   "outputs": [
    {
     "data": {
      "text/plain": [
       "H₂O"
      ]
     },
     "execution_count": 57,
     "metadata": {},
     "output_type": "execute_result"
    }
   ],
   "source": [
    "water"
   ]
  },
  {
   "cell_type": "code",
   "execution_count": 58,
   "id": "9a220872-3481-48f7-a319-f1c2978b2954",
   "metadata": {},
   "outputs": [],
   "source": [
    "test_eq(water.element['H'], 2)\n",
    "test_eq(water.element['O'], 1)"
   ]
  },
  {
   "cell_type": "code",
   "execution_count": 59,
   "id": "d423716b-73c7-426f-adf1-bd4a380a592a",
   "metadata": {},
   "outputs": [],
   "source": [
    "test_eq(water.charge, -1)"
   ]
  },
  {
   "cell_type": "code",
   "execution_count": 60,
   "id": "7dee8117-f0b1-4970-abff-f787b7e63a58",
   "metadata": {},
   "outputs": [],
   "source": [
    "#| export\n",
    "def distance(a, b):\n",
    "    \"\"\"\n",
    "    The distance between vector a and vector b\n",
    "    :param a: the cooridnate of a\n",
    "    :param b: the coordinate of b\n",
    "    :return the distance between vector a and vector b\n",
    "    \n",
    "    \"\"\"\n",
    "    return LA.norm(a - b, 2)"
   ]
  },
  {
   "cell_type": "code",
   "execution_count": 61,
   "id": "5ea77a38-9a83-4bcb-a630-cecd6df56fc7",
   "metadata": {},
   "outputs": [],
   "source": [
    "#| export\n",
    "class Compound:\n",
    "    def __init__(self, **kwargs):\n",
    "        keys = kwargs"
   ]
  }
 ],
 "metadata": {
  "kernelspec": {
   "display_name": "Python 3 (ipykernel)",
   "language": "python",
   "name": "python3"
  },
  "language_info": {
   "codemirror_mode": {
    "name": "ipython",
    "version": 3
   },
   "file_extension": ".py",
   "mimetype": "text/x-python",
   "name": "python",
   "nbconvert_exporter": "python",
   "pygments_lexer": "ipython3",
   "version": "3.10.4"
  }
 },
 "nbformat": 4,
 "nbformat_minor": 5
}
