{
 "cells": [
  {
   "cell_type": "code",
   "execution_count": null,
   "id": "c842861d-5c4c-4498-963c-6e229ab4bfed",
   "metadata": {},
   "outputs": [],
   "source": [
    "#| default_exp atom"
   ]
  },
  {
   "cell_type": "code",
   "execution_count": null,
   "id": "d93c3a8d-575d-447b-b7a2-d17755e91ffc",
   "metadata": {},
   "outputs": [],
   "source": [
    "#| hide\n",
    "from nbdev.showdoc import *"
   ]
  },
  {
   "cell_type": "code",
   "execution_count": null,
   "id": "08851523-e188-4e7d-a1c0-e383ca47a47c",
   "metadata": {},
   "outputs": [],
   "source": [
    "#| hide\n",
    "import nbdev; nbdev.nbdev_export()"
   ]
  },
  {
   "cell_type": "code",
   "execution_count": null,
   "id": "48182caf-3b53-46ae-bfd2-7b176e176500",
   "metadata": {},
   "outputs": [],
   "source": [
    "#| export\n",
    "import numpy as np\n",
    "from numpy import linalg as LA\n",
    "import pandas\n",
    "from fastcore.test import *\n",
    "\n",
    "from pymaterial.core import *\n",
    "from pymaterial.unit import Unit"
   ]
  },
  {
   "cell_type": "markdown",
   "id": "1cee7df0-b7db-44c3-976f-10b2af821b54",
   "metadata": {},
   "source": [
    "# atom\n",
    "\n",
    "> Fill in a module description here"
   ]
  },
  {
   "cell_type": "markdown",
   "id": "2848bf0c-a5e6-4c7a-85a3-195cb0e79f0a",
   "metadata": {},
   "source": [
    "#### Element"
   ]
  },
  {
   "cell_type": "code",
   "execution_count": null,
   "id": "c65df799-19cb-4245-a2a1-ed899c0f64cf",
   "metadata": {},
   "outputs": [],
   "source": [
    "#| export\n",
    "class Element:\n",
    "    def __init__(self,\n",
    "                 formula: str, # the chemical formula of the element\n",
    "                 *,\n",
    "                 charge: int = 0, # the charge of the element\n",
    "                 coordinate = None # the coordinate of the element, can be 2D or 3D\n",
    "                ): # represent an element\n",
    "        \n",
    "        e = ChemFormula(formula)\n",
    "        \n",
    "        self.element = e.element\n",
    "        self.unicode = e.unicode\n",
    "        self.charge = charge\n",
    "        self.coordinate = coordinate\n",
    "    \n",
    "    def __repr__(self):\n",
    "        return self.unicode"
   ]
  },
  {
   "cell_type": "code",
   "execution_count": null,
   "id": "2c0386a4-79e1-41f8-94d5-20e90a7a9f7f",
   "metadata": {},
   "outputs": [
    {
     "data": {
      "text/markdown": [
       "---\n",
       "\n",
       "[source](https://github.com/xrsrke/pymaterial/blob/master/pymaterial/atom.py#L15){target=\"_blank\" style=\"float:right; font-size:smaller\"}\n",
       "\n",
       "### Element\n",
       "\n",
       ">      Element (formula:str, charge:int=0, coordinate=None)\n",
       "\n",
       "Initialize self.  See help(type(self)) for accurate signature.\n",
       "\n",
       "|    | **Type** | **Default** | **Details** |\n",
       "| -- | -------- | ----------- | ----------- |\n",
       "| formula | str |  | the chemical formula of the element |\n",
       "| charge | int | 0 |  |\n",
       "| coordinate | NoneType | None |  |"
      ],
      "text/plain": [
       "---\n",
       "\n",
       "[source](https://github.com/xrsrke/pymaterial/blob/master/pymaterial/atom.py#L15){target=\"_blank\" style=\"float:right; font-size:smaller\"}\n",
       "\n",
       "### Element\n",
       "\n",
       ">      Element (formula:str, charge:int=0, coordinate=None)\n",
       "\n",
       "Initialize self.  See help(type(self)) for accurate signature.\n",
       "\n",
       "|    | **Type** | **Default** | **Details** |\n",
       "| -- | -------- | ----------- | ----------- |\n",
       "| formula | str |  | the chemical formula of the element |\n",
       "| charge | int | 0 |  |\n",
       "| coordinate | NoneType | None |  |"
      ]
     },
     "execution_count": null,
     "metadata": {},
     "output_type": "execute_result"
    }
   ],
   "source": [
    "show_doc(Element)"
   ]
  },
  {
   "cell_type": "code",
   "execution_count": null,
   "id": "c732023a-63e1-4f7c-bce4-704e4c29629f",
   "metadata": {},
   "outputs": [],
   "source": [
    "from chemformula import ChemFormula"
   ]
  },
  {
   "cell_type": "code",
   "execution_count": null,
   "id": "89e3bd4c-9bf1-48c1-8366-b579770ad5e9",
   "metadata": {},
   "outputs": [],
   "source": [
    "muscarine = ChemFormula(\"((CH3)3N)(C6H11O2)\", charge = 1, name = \"L-(+)-Muscarine\")"
   ]
  },
  {
   "cell_type": "code",
   "execution_count": null,
   "id": "a909cd1a-6597-4dfe-ab09-90f78c7aac15",
   "metadata": {},
   "outputs": [
    {
     "data": {
      "text/plain": [
       "'((CH₃)₃N)(C₆H₁₁O₂)⁺'"
      ]
     },
     "execution_count": null,
     "metadata": {},
     "output_type": "execute_result"
    }
   ],
   "source": [
    "muscarine.unicode"
   ]
  },
  {
   "cell_type": "code",
   "execution_count": null,
   "id": "ee3ab7b9-bdcd-4e9a-a27e-3706bc062c28",
   "metadata": {},
   "outputs": [
    {
     "data": {
      "text/plain": [
       "{'C': 9, 'H': 20, 'N': 1, 'O': 2}"
      ]
     },
     "execution_count": null,
     "metadata": {},
     "output_type": "execute_result"
    }
   ],
   "source": [
    "muscarine.element"
   ]
  },
  {
   "cell_type": "code",
   "execution_count": null,
   "id": "55df8c6d-b61b-4daf-a146-de91464610f2",
   "metadata": {},
   "outputs": [
    {
     "data": {
      "text/plain": [
       "<chemformula.ChemFormulaString>"
      ]
     },
     "execution_count": null,
     "metadata": {},
     "output_type": "execute_result"
    }
   ],
   "source": [
    "muscarine.hill_formula"
   ]
  },
  {
   "cell_type": "code",
   "execution_count": null,
   "id": "508c2171-1d73-4166-9e6b-59871b1059c4",
   "metadata": {},
   "outputs": [],
   "source": [
    "water = Element(formula='H2O', charge=-1)"
   ]
  },
  {
   "cell_type": "code",
   "execution_count": null,
   "id": "008204e3-024f-4fd8-a2e2-4e1a9ff9d257",
   "metadata": {},
   "outputs": [
    {
     "data": {
      "text/plain": [
       "{'element': {'H': 2, 'O': 1},\n",
       " 'unicode': 'H₂O',\n",
       " 'charge': -1,\n",
       " 'coordinate': None}"
      ]
     },
     "execution_count": null,
     "metadata": {},
     "output_type": "execute_result"
    }
   ],
   "source": [
    "water.__dict__"
   ]
  },
  {
   "cell_type": "code",
   "execution_count": null,
   "id": "23fc0d0e-718c-4290-aae6-900581d7aa21",
   "metadata": {},
   "outputs": [
    {
     "data": {
      "text/plain": [
       "2"
      ]
     },
     "execution_count": null,
     "metadata": {},
     "output_type": "execute_result"
    }
   ],
   "source": [
    "water.element['H']"
   ]
  },
  {
   "cell_type": "code",
   "execution_count": null,
   "id": "30d71f9f-8197-44a1-843f-b65e7187ae5a",
   "metadata": {},
   "outputs": [
    {
     "data": {
      "text/plain": [
       "H₂O"
      ]
     },
     "execution_count": null,
     "metadata": {},
     "output_type": "execute_result"
    }
   ],
   "source": [
    "water"
   ]
  },
  {
   "cell_type": "code",
   "execution_count": null,
   "id": "9a220872-3481-48f7-a319-f1c2978b2954",
   "metadata": {},
   "outputs": [],
   "source": [
    "#| hide\n",
    "test_eq(water.element['H'], 2)\n",
    "test_eq(water.element['O'], 1)\n",
    "test_eq(water.charge, -1)"
   ]
  },
  {
   "cell_type": "markdown",
   "id": "9523cde5-f0c9-4816-8709-583bb0a7eaa6",
   "metadata": {},
   "source": [
    "#### Compound"
   ]
  },
  {
   "cell_type": "code",
   "execution_count": null,
   "id": "5ea77a38-9a83-4bcb-a630-cecd6df56fc7",
   "metadata": {},
   "outputs": [],
   "source": [
    "#| export\n",
    "class Compound:\n",
    "    def __init__(self,\n",
    "        *args: Element # list of elements\n",
    "    ):\n",
    "        keys = args\n",
    "        elements = []\n",
    "        for element in keys:\n",
    "            elements.append(element)\n",
    "    \n",
    "    def electric_force(self):\n",
    "        \n",
    "        # TODO: loop through all the bonds\n",
    "        pass"
   ]
  },
  {
   "cell_type": "code",
   "execution_count": null,
   "id": "91b26be6-b971-43fc-a391-f8e175793567",
   "metadata": {},
   "outputs": [
    {
     "data": {
      "text/plain": [
       "H₂O"
      ]
     },
     "execution_count": null,
     "metadata": {},
     "output_type": "execute_result"
    }
   ],
   "source": [
    "Element('H2O')"
   ]
  },
  {
   "cell_type": "code",
   "execution_count": null,
   "id": "e637863b-d2a9-42d6-a068-1db349db72b2",
   "metadata": {},
   "outputs": [
    {
     "data": {
      "text/plain": [
       "<__main__.Compound>"
      ]
     },
     "execution_count": null,
     "metadata": {},
     "output_type": "execute_result"
    }
   ],
   "source": [
    "Compound(Element('H2'), Element('O'))"
   ]
  },
  {
   "cell_type": "markdown",
   "id": "752f9e5a-320f-40c9-a092-990df733b911",
   "metadata": {},
   "source": [
    "### Vector"
   ]
  },
  {
   "cell_type": "code",
   "execution_count": null,
   "id": "7dee8117-f0b1-4970-abff-f787b7e63a58",
   "metadata": {},
   "outputs": [],
   "source": [
    "#| export\n",
    "def distance(\n",
    "    a, # the coordinate of point a\n",
    "    b # the coordinate of point b\n",
    ") -> float: # the distance between vector a and vector b\n",
    "    \n",
    "    return LA.norm(a - b, 2)"
   ]
  },
  {
   "cell_type": "code",
   "execution_count": null,
   "id": "95982a27-9c9d-4276-9f70-7d82bb05f8e7",
   "metadata": {},
   "outputs": [
    {
     "data": {
      "text/plain": [
       "True"
      ]
     },
     "execution_count": null,
     "metadata": {},
     "output_type": "execute_result"
    }
   ],
   "source": [
    "#| hide\n",
    "d = distance(np.array([7, 4, 3]), np.array([17, 6, 2]))\n",
    "is_close(d, 10.24, eps=1e-02)"
   ]
  }
 ],
 "metadata": {
  "kernelspec": {
   "display_name": "Python 3 (ipykernel)",
   "language": "python",
   "name": "python3"
  }
 },
 "nbformat": 4,
 "nbformat_minor": 5
}
