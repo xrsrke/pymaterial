{
 "cells": [
  {
   "cell_type": "markdown",
   "id": "535a2d48-c9f3-4b8f-9a15-3f4dc512233c",
   "metadata": {},
   "source": [
    "# bonding\n",
    "\n",
    "> Fill in a module description here"
   ]
  },
  {
   "cell_type": "code",
   "execution_count": 3,
   "id": "bdb6f28a-d6ad-433c-a83f-8fa2bcf9a345",
   "metadata": {},
   "outputs": [],
   "source": [
    "#| default_exp bonding"
   ]
  },
  {
   "cell_type": "code",
   "execution_count": 4,
   "id": "35d908b3-66f3-4c17-ac46-2d92833c2655",
   "metadata": {},
   "outputs": [],
   "source": [
    "#| hide\n",
    "from nbdev.showdoc import *"
   ]
  },
  {
   "cell_type": "code",
   "execution_count": 5,
   "id": "19953a8d-d8c7-4fc2-b7ee-ed6796919a3a",
   "metadata": {},
   "outputs": [],
   "source": [
    "#| hide\n",
    "import nbdev; nbdev.nbdev_export()"
   ]
  },
  {
   "cell_type": "code",
   "execution_count": 6,
   "id": "d87e18fb-03b3-4ffc-b39b-d777c38187d1",
   "metadata": {},
   "outputs": [],
   "source": [
    "#| export\n",
    "import scipy\n",
    "from scipy.constants import pi, epsilon_0, e\n",
    "import sympy as smp\n",
    "\n",
    "from pymaterial.core import *\n",
    "from pymaterial.unit import Unit"
   ]
  },
  {
   "cell_type": "markdown",
   "id": "c2b34027-b7a9-4ee5-9706-dc542e505fb8",
   "metadata": {},
   "source": [
    "### Bonding Force"
   ]
  },
  {
   "cell_type": "code",
   "execution_count": 21,
   "id": "23c40206-5bf2-4976-bbb8-829d1ee22b2b",
   "metadata": {},
   "outputs": [],
   "source": [
    "#| export\n",
    "class BondingForce:\n",
    "    pass"
   ]
  },
  {
   "cell_type": "code",
   "execution_count": 10,
   "id": "6d199ff2-3833-4d41-aed9-97a91b3f8a27",
   "metadata": {},
   "outputs": [],
   "source": [
    "#| export\n",
    "E_A, A, r = smp.symbols('E_A A r')"
   ]
  },
  {
   "cell_type": "code",
   "execution_count": 11,
   "id": "2fef730a-a2d3-496a-a407-75d1acdb73ef",
   "metadata": {},
   "outputs": [],
   "source": [
    "#| export\n",
    "#pi, epsilon_0, Z_1, Z_2, e = smp.symbols('pi epsilon_0 Z_1 Z_2 e')"
   ]
  },
  {
   "cell_type": "code",
   "execution_count": 12,
   "id": "131a47f5-eecc-4767-8c47-43e7989e6442",
   "metadata": {},
   "outputs": [
    {
     "data": {
      "text/plain": [
       "8.8541878128e-12"
      ]
     },
     "execution_count": 12,
     "metadata": {},
     "output_type": "execute_result"
    }
   ],
   "source": [
    "epsilon_0"
   ]
  },
  {
   "cell_type": "code",
   "execution_count": 51,
   "id": "529b1417-007d-42e0-8efc-c0de359c3f7c",
   "metadata": {},
   "outputs": [],
   "source": [
    "coulomb_constant = 1/(4*pi*epsilon_0)"
   ]
  },
  {
   "cell_type": "code",
   "execution_count": 52,
   "id": "a5880824-80e8-4a82-a510-24562be4c2b2",
   "metadata": {},
   "outputs": [
    {
     "data": {
      "text/plain": [
       "8987551792.261171"
      ]
     },
     "execution_count": 52,
     "metadata": {},
     "output_type": "execute_result"
    }
   ],
   "source": [
    "coulomb_constant"
   ]
  },
  {
   "cell_type": "markdown",
   "id": "80315d4e-3a6a-40ca-b0ef-251f896c7777",
   "metadata": {},
   "source": [
    "$$F_A=\\frac{1}{4 \\pi \\epsilon_0} \\frac{\\left|q_1 q_2\\right|}{r^2}$$"
   ]
  },
  {
   "cell_type": "code",
   "execution_count": 53,
   "id": "82d4efe8-ab3b-4e07-a331-c14f3e9a5394",
   "metadata": {},
   "outputs": [
    {
     "data": {
      "text/plain": [
       "1.602176634e-19"
      ]
     },
     "execution_count": 53,
     "metadata": {},
     "output_type": "execute_result"
    }
   ],
   "source": [
    "e"
   ]
  },
  {
   "cell_type": "code",
   "execution_count": 54,
   "id": "ee32666f-dc44-4a26-b50c-5cb31aa3753c",
   "metadata": {},
   "outputs": [
    {
     "data": {
      "text/plain": [
       "'coulomb'"
      ]
     },
     "execution_count": 54,
     "metadata": {},
     "output_type": "execute_result"
    }
   ],
   "source": [
    "Unit.ELECTRIC_CHARGE"
   ]
  },
  {
   "cell_type": "markdown",
   "id": "84fb24d8-07ff-434b-a4f6-e6e39059cddf",
   "metadata": {},
   "source": [
    "#### Attractive Force"
   ]
  },
  {
   "cell_type": "code",
   "execution_count": 82,
   "id": "844c8be8-52a4-4b32-969e-c4187fa92028",
   "metadata": {},
   "outputs": [],
   "source": [
    "#| export\n",
    "class AttractiveForce(BondingForce):\n",
    "    \n",
    "    ELEMENTARY_CHARGE = Q(e, Unit.ELECTRIC_CHARGE)\n",
    "    \n",
    "    def constant_a(self, charge_1: Q, charge_2: Q):\n",
    "        \n",
    "        # charge_1 = charge_1.to_base_units()\n",
    "        # charge_2 = charge_2.to_base_units()\n",
    "        \n",
    "        # if not isinstance(charge_1, Q) or isinstance(charge_2, Q):\n",
    "        #     return \"Please add dimension\"\n",
    "        \n",
    "        charge_1 = charge_1.to(Unit.ELECTRIC_CHARGE)\n",
    "        charge_2 = charge_2.to(Unit.ELECTRIC_CHARGE)\n",
    "        \n",
    "        return self.coloumb_constant * abs(charge_1) * abs(charge_2)\n",
    "\n",
    "    @property\n",
    "    def coloumb_constant(self):\n",
    "        unit = ureg.newton * ((ureg.meter**2)/(ureg.coulomb**2))\n",
    "        return 1/(4*pi*epsilon_0) * unit\n",
    "    \n",
    "    def magnitude(self,\n",
    "                  charge_1: Q, # the electric charge of the first atom\n",
    "                  charge_2: Q, # the electric charge of the second atom\n",
    "                  interatomic_distance):\n",
    "        \"\"\"\n",
    "        The attractive force between two atoms\n",
    "        \n",
    "        :param charge_1: the electric charge of the first atom\n",
    "        :param charge_2: the electric charge of the second atom\n",
    "        :param interatomic_distance: the interatomic distance between two atoms\n",
    "        :return the magnitude of the attractive force between two atoms\n",
    "        \"\"\"\n",
    "        charge_magnitude = abs(charge_1.to(Unit.ELECTRIC_CHARGE)) * abs(charge_2.to(Unit.ELECTRIC_CHARGE))\n",
    "        interatomic_distance = interatomic_distance.to(Unit.LENGTH)\n",
    "        \n",
    "        return self.coloumb_constant * (charge_magnitude)/(interatomic_distance**2)"
   ]
  },
  {
   "cell_type": "markdown",
   "id": "d5dc76d3-7ec0-4bcf-a733-dc25fac64e24",
   "metadata": {},
   "source": [
    "#### Repulsive Force"
   ]
  },
  {
   "cell_type": "code",
   "execution_count": 14,
   "id": "a96012de-979f-4a47-b384-c2a84257164a",
   "metadata": {},
   "outputs": [],
   "source": [
    "#| export\n",
    "class RepulsiveForce(BondingForce):\n",
    "    @property\n",
    "    def constant_b(self):\n",
    "        pass\n",
    "    \n",
    "    @property\n",
    "    def magnitude(self, atom_1, atom_2):\n",
    "        pass"
   ]
  },
  {
   "cell_type": "code",
   "execution_count": 15,
   "id": "ac6c3559-4c91-4eb3-897a-5a50af865e82",
   "metadata": {},
   "outputs": [],
   "source": [
    "#| export\n",
    "class NetForce(BondingForce):\n",
    "    @property\n",
    "    def magnitude(self):\n",
    "        \"\"\"\n",
    "        The magnitude of bonding force between two atoms in the molecule\n",
    "        \"\"\"\n",
    "        pass"
   ]
  },
  {
   "cell_type": "markdown",
   "id": "5ee7b543-821f-49c5-b7e8-67307d2ea4b0",
   "metadata": {},
   "source": [
    "### Bonding Energy"
   ]
  },
  {
   "cell_type": "code",
   "execution_count": 22,
   "id": "b934506d-c580-4910-8749-aa39115ca747",
   "metadata": {},
   "outputs": [],
   "source": [
    "#| export\n",
    "class BondingEnergy:\n",
    "    pass"
   ]
  },
  {
   "cell_type": "code",
   "execution_count": 17,
   "id": "1de7a857-be05-4d95-b010-cdb41ca9f149",
   "metadata": {},
   "outputs": [],
   "source": [
    "#| export\n",
    "class AttractiveEnergy(BondingEnergy):\n",
    "\n",
    "    def magnitude(self, charge_1, charge_2, interatomic_separation):\n",
    "        \"\"\"\n",
    "        The magnitude of the energy of the attractive force between two atoms in the molecule\n",
    "        \"\"\"\n",
    "        \n",
    "        attractive_force = AttractiveForce()\n",
    "        constant_a = attractive_force.constant_a(charge_1, charge_2)\n",
    "        \n",
    "        return -1 * constant_a / interatomic_separation.to(Unit.LENGTH)"
   ]
  },
  {
   "cell_type": "code",
   "execution_count": 18,
   "id": "2ccc06d4-4e36-4731-9bfa-485efbfc9239",
   "metadata": {},
   "outputs": [],
   "source": [
    "#| export\n",
    "class RepulsiveEnergy(BondingEnergy):\n",
    "    @property\n",
    "    def magnitude(self):\n",
    "        pass"
   ]
  },
  {
   "cell_type": "code",
   "execution_count": 19,
   "id": "78824121-823d-467d-bfa6-4f0c51e64f64",
   "metadata": {},
   "outputs": [],
   "source": [
    "#| export\n",
    "class NetEnergy(BondingEnergy):\n",
    "    @property\n",
    "    def magnitude(self):\n",
    "        \"\"\"\n",
    "        The energy of the net bonding force between two atoms in the molecule\n",
    "        \"\"\"\n",
    "        pass"
   ]
  }
 ],
 "metadata": {
  "kernelspec": {
   "display_name": "Python 3 (ipykernel)",
   "language": "python",
   "name": "python3"
  },
  "language_info": {
   "codemirror_mode": {
    "name": "ipython",
    "version": 3
   },
   "file_extension": ".py",
   "mimetype": "text/x-python",
   "name": "python",
   "nbconvert_exporter": "python",
   "pygments_lexer": "ipython3",
   "version": "3.10.4"
  }
 },
 "nbformat": 4,
 "nbformat_minor": 5
}
