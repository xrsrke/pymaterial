{
 "cells": [
  {
   "cell_type": "markdown",
   "id": "535a2d48-c9f3-4b8f-9a15-3f4dc512233c",
   "metadata": {},
   "source": [
    "# bonding\n",
    "\n",
    "> Fill in a module description here"
   ]
  },
  {
   "cell_type": "code",
   "execution_count": null,
   "id": "bdb6f28a-d6ad-433c-a83f-8fa2bcf9a345",
   "metadata": {},
   "outputs": [],
   "source": [
    "#| default_exp bonding"
   ]
  },
  {
   "cell_type": "code",
   "execution_count": null,
   "id": "35d908b3-66f3-4c17-ac46-2d92833c2655",
   "metadata": {},
   "outputs": [],
   "source": [
    "#| hide\n",
    "from nbdev.showdoc import *"
   ]
  },
  {
   "cell_type": "code",
   "execution_count": null,
   "id": "19953a8d-d8c7-4fc2-b7ee-ed6796919a3a",
   "metadata": {},
   "outputs": [],
   "source": [
    "#| hide\n",
    "import nbdev; nbdev.nbdev_export()"
   ]
  },
  {
   "cell_type": "code",
   "execution_count": null,
   "id": "d87e18fb-03b3-4ffc-b39b-d777c38187d1",
   "metadata": {},
   "outputs": [],
   "source": [
    "#| export\n",
    "import scipy\n",
    "from scipy.constants import pi, epsilon_0, e\n",
    "import sympy as smp\n",
    "\n",
    "from pymaterial.core import *\n",
    "from pymaterial.unit import Unit"
   ]
  },
  {
   "cell_type": "markdown",
   "id": "0f38a129-b186-41be-9467-61f3c1fc50e1",
   "metadata": {},
   "source": [
    "### Molecule"
   ]
  },
  {
   "cell_type": "code",
   "execution_count": null,
   "id": "ba207e4a-645e-41b9-aeca-1bc624c042de",
   "metadata": {},
   "outputs": [],
   "source": [
    "#| export\n",
    "class Atom:\n",
    "    pass"
   ]
  },
  {
   "cell_type": "code",
   "execution_count": null,
   "id": "7b5ef288-a7c3-4d21-973e-1fe529183514",
   "metadata": {},
   "outputs": [],
   "source": [
    "#| export\n",
    "class Molecules:\n",
    "    # def __init__(self, molecule):\n",
    "    #     pass\n",
    "    pass"
   ]
  },
  {
   "cell_type": "markdown",
   "id": "c2b34027-b7a9-4ee5-9706-dc542e505fb8",
   "metadata": {},
   "source": [
    "### Bonding Force"
   ]
  },
  {
   "cell_type": "code",
   "execution_count": null,
   "id": "23c40206-5bf2-4976-bbb8-829d1ee22b2b",
   "metadata": {},
   "outputs": [],
   "source": [
    "#| export\n",
    "class BondingForce(Molecules):\n",
    "    pass"
   ]
  },
  {
   "cell_type": "code",
   "execution_count": null,
   "id": "6d199ff2-3833-4d41-aed9-97a91b3f8a27",
   "metadata": {},
   "outputs": [],
   "source": [
    "#| export\n",
    "E_A, A, r = smp.symbols('E_A A r')"
   ]
  },
  {
   "cell_type": "code",
   "execution_count": null,
   "id": "2fef730a-a2d3-496a-a407-75d1acdb73ef",
   "metadata": {},
   "outputs": [],
   "source": [
    "#| export\n",
    "#pi, epsilon_0, Z_1, Z_2, e = smp.symbols('pi epsilon_0 Z_1 Z_2 e')"
   ]
  },
  {
   "cell_type": "code",
   "execution_count": null,
   "id": "131a47f5-eecc-4767-8c47-43e7989e6442",
   "metadata": {},
   "outputs": [
    {
     "data": {
      "text/plain": [
       "8.8541878128e-12"
      ]
     },
     "execution_count": null,
     "metadata": {},
     "output_type": "execute_result"
    }
   ],
   "source": [
    "epsilon_0"
   ]
  },
  {
   "cell_type": "code",
   "execution_count": null,
   "id": "529b1417-007d-42e0-8efc-c0de359c3f7c",
   "metadata": {},
   "outputs": [],
   "source": [
    "coulomb_constant = 1/(4*pi*epsilon_0)"
   ]
  },
  {
   "cell_type": "code",
   "execution_count": null,
   "id": "a5880824-80e8-4a82-a510-24562be4c2b2",
   "metadata": {},
   "outputs": [
    {
     "data": {
      "text/plain": [
       "8987551792.261171"
      ]
     },
     "execution_count": null,
     "metadata": {},
     "output_type": "execute_result"
    }
   ],
   "source": [
    "coulomb_constant"
   ]
  },
  {
   "cell_type": "markdown",
   "id": "80315d4e-3a6a-40ca-b0ef-251f896c7777",
   "metadata": {},
   "source": [
    "$$F_A=\\frac{1}{4 \\pi \\epsilon_0} \\frac{\\left|q_1 q_2\\right|}{r^2}$$"
   ]
  },
  {
   "cell_type": "code",
   "execution_count": null,
   "id": "82d4efe8-ab3b-4e07-a331-c14f3e9a5394",
   "metadata": {},
   "outputs": [
    {
     "data": {
      "text/plain": [
       "1.602176634e-19"
      ]
     },
     "execution_count": null,
     "metadata": {},
     "output_type": "execute_result"
    }
   ],
   "source": [
    "e"
   ]
  },
  {
   "cell_type": "code",
   "execution_count": null,
   "id": "ee32666f-dc44-4a26-b50c-5cb31aa3753c",
   "metadata": {},
   "outputs": [
    {
     "data": {
      "text/plain": [
       "'coulomb'"
      ]
     },
     "execution_count": null,
     "metadata": {},
     "output_type": "execute_result"
    }
   ],
   "source": [
    "Unit.ELECTRIC_CHARGE"
   ]
  },
  {
   "cell_type": "code",
   "execution_count": null,
   "id": "844c8be8-52a4-4b32-969e-c4187fa92028",
   "metadata": {},
   "outputs": [
    {
     "ename": "NameError",
     "evalue": "name 'BondingForce' is not defined",
     "output_type": "error",
     "traceback": [
      "\u001b[0;31m---------------------------------------------------------------------------\u001b[0m",
      "\u001b[0;31mNameError\u001b[0m                                 Traceback (most recent call last)",
      "Cell \u001b[0;32mIn [1], line 2\u001b[0m\n\u001b[1;32m      1\u001b[0m \u001b[38;5;66;03m#| export\u001b[39;00m\n\u001b[0;32m----> 2\u001b[0m \u001b[38;5;28;01mclass\u001b[39;00m \u001b[38;5;21;01mAttractiveForce\u001b[39;00m(\u001b[43mBondingForce\u001b[49m):\n\u001b[1;32m      4\u001b[0m     ELEMENTARY_CHARGE \u001b[38;5;241m=\u001b[39m Q(e, Unit\u001b[38;5;241m.\u001b[39mELECTRIC_CHARGE)\n\u001b[1;32m      6\u001b[0m     \u001b[38;5;28;01mdef\u001b[39;00m \u001b[38;5;21mconstant_a\u001b[39m(\u001b[38;5;28mself\u001b[39m, charge_1: Q, charge_2: Q):\n\u001b[1;32m      7\u001b[0m         \n\u001b[1;32m      8\u001b[0m         \u001b[38;5;66;03m# charge_1 = charge_1.to_base_units()\u001b[39;00m\n\u001b[0;32m   (...)\u001b[0m\n\u001b[1;32m     11\u001b[0m         \u001b[38;5;66;03m# if not isinstance(charge_1, Q) or isinstance(charge_2, Q):\u001b[39;00m\n\u001b[1;32m     12\u001b[0m         \u001b[38;5;66;03m#     return \"Please add dimension\"\u001b[39;00m\n",
      "\u001b[0;31mNameError\u001b[0m: name 'BondingForce' is not defined"
     ]
    }
   ],
   "source": [
    "#| export\n",
    "class AttractiveForce(BondingForce):\n",
    "    \n",
    "    ELEMENTARY_CHARGE = Q(e, Unit.ELECTRIC_CHARGE)\n",
    "    \n",
    "    def constant_a(self, charge_1: Q, charge_2: Q):\n",
    "        \n",
    "        # charge_1 = charge_1.to_base_units()\n",
    "        # charge_2 = charge_2.to_base_units()\n",
    "        \n",
    "        # if not isinstance(charge_1, Q) or isinstance(charge_2, Q):\n",
    "        #     return \"Please add dimension\"\n",
    "        \n",
    "        charge_1 = charge_1.to(Unit.ELECTRIC_CHARGE)\n",
    "        charge_2 = charge_2.to(Unit.ELECTRIC_CHARGE)\n",
    "        \n",
    "        return self.coloumb_constant * abs(charge_1) * abs(charge_2)\n",
    "\n",
    "    @property\n",
    "    def coloumb_constant(self):\n",
    "        unit = ureg.newton * ((ureg.meter**2)/(ureg.coulomb**2))\n",
    "        return 1/(4*pi*epsilon_0) * unit\n",
    "        \n",
    "    def magnitude(self,\n",
    "                  charge_1: Q, # the electric charge of the first atom\n",
    "                  charge_2: Q, # the electric charge of the second atom\n",
    "                  interatomic_distance):\n",
    "        \"\"\"\n",
    "        The attractive force between two atoms\n",
    "        \n",
    "        :param charge_1: the electric charge of the first atom\n",
    "        :param charge_2: the electric charge of the second atom\n",
    "        :param interatomic_distance: the interatomic distance between two atoms\n",
    "        :return the magnitude of the attractive force between two atoms\n",
    "        \"\"\"\n",
    "        charge_magnitude = abs(charge_1.to(Unit.ELECTRIC_CHARGE)) * abs(charge_2.to(Unit.ELECTRIC_CHARGE))\n",
    "        interatomic_distance = interatomic_distance.to(Unit.LENGTH)\n",
    "        \n",
    "        return self.coloumb_constant * (charge_magnitude)/(interatomic_distance**2)"
   ]
  },
  {
   "cell_type": "code",
   "execution_count": null,
   "id": "a96012de-979f-4a47-b384-c2a84257164a",
   "metadata": {},
   "outputs": [],
   "source": [
    "#| export\n",
    "class RepulsiveForce(BondingForce):\n",
    "    @property\n",
    "    def constant_b(self):\n",
    "        pass\n",
    "    \n",
    "    @property\n",
    "    def magnitude(self, atom_1, atom_2):\n",
    "        pass"
   ]
  },
  {
   "cell_type": "code",
   "execution_count": null,
   "id": "ac6c3559-4c91-4eb3-897a-5a50af865e82",
   "metadata": {},
   "outputs": [],
   "source": [
    "#| export\n",
    "class NetForce(BondingForce):\n",
    "    @property\n",
    "    def magnitude(self):\n",
    "        \"\"\"\n",
    "        The magnitude of bonding force between two atoms in the molecule\n",
    "        \"\"\"\n",
    "        pass"
   ]
  },
  {
   "cell_type": "markdown",
   "id": "5ee7b543-821f-49c5-b7e8-67307d2ea4b0",
   "metadata": {},
   "source": [
    "### Bonding Energy"
   ]
  },
  {
   "cell_type": "code",
   "execution_count": null,
   "id": "b934506d-c580-4910-8749-aa39115ca747",
   "metadata": {},
   "outputs": [],
   "source": [
    "#| export\n",
    "class BondingEnergy(Molecules):\n",
    "    pass"
   ]
  },
  {
   "cell_type": "code",
   "execution_count": null,
   "id": "1de7a857-be05-4d95-b010-cdb41ca9f149",
   "metadata": {},
   "outputs": [],
   "source": [
    "#| export\n",
    "class AttractiveEnergy(BondingEnergy):\n",
    "\n",
    "    def magnitude(self, charge_1, charge_2, interatomic_separation):\n",
    "        \"\"\"\n",
    "        The magnitude of the energy of the attractive force between two atoms in the molecule\n",
    "        \"\"\"\n",
    "        \n",
    "        attractive_force = AttractiveForce()\n",
    "        constant_a = attractive_force.constant_a(charge_1, charge_2)\n",
    "        \n",
    "        return -1 * constant_a / interatomic_separation.to(Unit.LENGTH)"
   ]
  },
  {
   "cell_type": "code",
   "execution_count": null,
   "id": "2ccc06d4-4e36-4731-9bfa-485efbfc9239",
   "metadata": {},
   "outputs": [],
   "source": [
    "#| export\n",
    "class RepulsiveEnergy(BondingEnergy):\n",
    "    @property\n",
    "    def magnitude(self):\n",
    "        pass"
   ]
  },
  {
   "cell_type": "code",
   "execution_count": null,
   "id": "78824121-823d-467d-bfa6-4f0c51e64f64",
   "metadata": {},
   "outputs": [],
   "source": [
    "#| export\n",
    "class NetEnergy(BondingEnergy):\n",
    "    @property\n",
    "    def magnitude(self):\n",
    "        \"\"\"\n",
    "        The energy of the net bonding force between two atoms in the molecule\n",
    "        \"\"\"\n",
    "        pass"
   ]
  }
 ],
 "metadata": {
  "kernelspec": {
   "display_name": "Python 3 (ipykernel)",
   "language": "python",
   "name": "python3"
  }
 },
 "nbformat": 4,
 "nbformat_minor": 5
}
